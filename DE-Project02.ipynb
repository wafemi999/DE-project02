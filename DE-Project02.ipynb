{
 "cells": [
  {
   "cell_type": "markdown",
   "id": "0a998007",
   "metadata": {},
   "source": [
    "# Install PostgreSQL database adapter"
   ]
  },
  {
   "cell_type": "code",
   "execution_count": 8,
   "id": "4e2727b7",
   "metadata": {},
   "outputs": [
    {
     "name": "stdout",
     "output_type": "stream",
     "text": [
      "Requirement already satisfied: psycopg2 in c:\\users\\hp\\anaconda3\\lib\\site-packages (2.9.7)\n",
      "Note: you may need to restart the kernel to use updated packages.\n"
     ]
    }
   ],
   "source": [
    "pip install psycopg2"
   ]
  },
  {
   "cell_type": "markdown",
   "id": "1e4a3755",
   "metadata": {},
   "source": [
    "## Import the library"
   ]
  },
  {
   "cell_type": "code",
   "execution_count": 1,
   "id": "34c1b31b",
   "metadata": {},
   "outputs": [],
   "source": [
    "import psycopg2 "
   ]
  },
  {
   "cell_type": "markdown",
   "id": "a35ecf63",
   "metadata": {},
   "source": [
    "## Create connection to the database:\n"
   ]
  },
  {
   "cell_type": "code",
   "execution_count": 5,
   "id": "09d05b23",
   "metadata": {},
   "outputs": [],
   "source": [
    "try:\n",
    "    \n",
    "    connect_psql = psycopg2.connect(\"host = 127.0.0.1 dbname = postgres user = postgres password = 123456 \")\n",
    "except psycopg2.Error as e:\n",
    "        print(\"Error: database no found\")\n",
    "        print(e)"
   ]
  },
  {
   "cell_type": "markdown",
   "id": "bc1d4fb9",
   "metadata": {},
   "source": [
    "## Create cursor to execute queries remotely"
   ]
  },
  {
   "cell_type": "code",
   "execution_count": 9,
   "id": "6eb8961f",
   "metadata": {},
   "outputs": [],
   "source": [
    "try:\n",
    "    cur = connect_psql.cursor()\n",
    "except psycopg2.Error as e:\n",
    "        print(\"Error: Cursor not found\")\n",
    "        print(e)"
   ]
  },
  {
   "cell_type": "markdown",
   "id": "c62a1574",
   "metadata": {},
   "source": [
    "## Use connect_psql.set_session to commit SQL statement automatically."
   ]
  },
  {
   "cell_type": "code",
   "execution_count": 11,
   "id": "c8083ac4",
   "metadata": {},
   "outputs": [],
   "source": [
    "connect_psql.set_session(autocommit = True)"
   ]
  },
  {
   "cell_type": "markdown",
   "id": "1c3c103e",
   "metadata": {},
   "source": [
    "# Create Database"
   ]
  },
  {
   "cell_type": "code",
   "execution_count": 15,
   "id": "f21e4c1f",
   "metadata": {},
   "outputs": [],
   "source": [
    "try:\n",
    "    cur.execute(\"CREATE DATABASE DE_Project02\")\n",
    "except psycopg2.Error as e:\n",
    "        print(\"Error\")\n",
    "        print(e)"
   ]
  },
  {
   "cell_type": "markdown",
   "id": "a9df3b50",
   "metadata": {},
   "source": [
    "## Close database connection and connect to the database DE_Project02 directly"
   ]
  },
  {
   "cell_type": "code",
   "execution_count": 19,
   "id": "2d43fea1",
   "metadata": {},
   "outputs": [],
   "source": [
    "#close database\n",
    "try: \n",
    "    connect_psql.close()\n",
    "except psycopg2.Error as e:\n",
    "    print(e)\n",
    " \n",
    " #connect to DE_project02 database\n",
    "\n",
    "try: \n",
    "    connect_psql = psycopg2.connect(\"host=127.0.0.1 dbname=de_project02 user=postgres password=123456\")\n",
    "except psycopg2.Error as e: \n",
    "    print(\"Error: Could not make connection to DE_project02 database\")\n",
    "    print(e)\n",
    "    \n",
    "try: \n",
    "    cur = connect_psql.cursor()\n",
    "except psycopg2.Error as e: \n",
    "    print(\"Error: Could not get cursor\")\n",
    "    print(e)\n",
    "\n",
    "connect_psql.set_session(autocommit=True)"
   ]
  },
  {
   "cell_type": "markdown",
   "id": "9b04fe23",
   "metadata": {},
   "source": [
    "## Create table students for the database"
   ]
  },
  {
   "cell_type": "code",
   "execution_count": 21,
   "id": "92f98495",
   "metadata": {},
   "outputs": [],
   "source": [
    "try: \n",
    "    cur.execute(\"CREATE TABLE IF NOT EXISTS students (student_id int, name varchar,\\\n",
    "    age int, gender varchar, subject varchar, marks int);\")\n",
    "except psycopg2.Error as e: \n",
    "    print(\"Error\")\n",
    "    print (e)"
   ]
  },
  {
   "cell_type": "markdown",
   "id": "4affd20b",
   "metadata": {},
   "source": [
    "## Insert data into table students"
   ]
  },
  {
   "cell_type": "code",
   "execution_count": 22,
   "id": "75f9e2ff",
   "metadata": {},
   "outputs": [],
   "source": [
    " try: \n",
    "    cur.execute(\"INSERT INTO students (student_id, name, age, gender, subject, marks) \\\n",
    "                 VALUES (%s, %s, %s, %s, %s, %s)\", \\\n",
    "                 (1, \"kemi\", 23, \"female\", \"Python\", 65))\n",
    "except psycopg2.Error as e: \n",
    "    print(\"Error: Inserting Rows\")\n",
    "    print (e)\n",
    "    \n",
    "try: \n",
    "    cur.execute(\"INSERT INTO students (student_id, name, age, gender, subject, marks) \\\n",
    "                  VALUES (%s, %s, %s, %s, %s, %s)\",\n",
    "                  ( 2, \"mike\", 22, \"male\", \"Python\", 90))\n",
    "except psycopg2.Error as e: \n",
    "    print(\"Error: Inserting Rows\")\n",
    "    print (e)"
   ]
  },
  {
   "cell_type": "markdown",
   "id": "74012ff8",
   "metadata": {},
   "source": [
    "## Validate inserted data:"
   ]
  },
  {
   "cell_type": "code",
   "execution_count": 24,
   "id": "07b2bdd1",
   "metadata": {},
   "outputs": [
    {
     "name": "stdout",
     "output_type": "stream",
     "text": [
      "(1, 'kemi', 23, 'female', 'Python', 65)\n",
      "(2, 'mike', 22, 'male', 'Python', 90)\n"
     ]
    }
   ],
   "source": [
    "try: \n",
    "    cur.execute(\"SELECT * FROM students;\")\n",
    "except psycopg2.Error as e: \n",
    "    print(\"Error\")\n",
    "    print (e)\n",
    "\n",
    " # fetches the first row of data from the database\n",
    "row = cur.fetchone()\n",
    "while row:\n",
    "    print(row)\n",
    "    row = cur.fetchone()"
   ]
  },
  {
   "cell_type": "markdown",
   "id": "4095e833",
   "metadata": {},
   "source": [
    "## Close all connections"
   ]
  },
  {
   "cell_type": "code",
   "execution_count": 25,
   "id": "d7304865",
   "metadata": {},
   "outputs": [],
   "source": [
    "cur.close()\n",
    "connect_psql.close()"
   ]
  },
  {
   "cell_type": "code",
   "execution_count": null,
   "id": "b60c05e6",
   "metadata": {},
   "outputs": [],
   "source": []
  }
 ],
 "metadata": {
  "kernelspec": {
   "display_name": "Python 3 (ipykernel)",
   "language": "python",
   "name": "python3"
  },
  "language_info": {
   "codemirror_mode": {
    "name": "ipython",
    "version": 3
   },
   "file_extension": ".py",
   "mimetype": "text/x-python",
   "name": "python",
   "nbconvert_exporter": "python",
   "pygments_lexer": "ipython3",
   "version": "3.9.7"
  }
 },
 "nbformat": 4,
 "nbformat_minor": 5
}
